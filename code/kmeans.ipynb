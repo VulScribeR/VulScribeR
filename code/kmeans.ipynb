{
 "cells": [
  {
   "cell_type": "code",
   "execution_count": 26,
   "metadata": {},
   "outputs": [
    {
     "name": "stdout",
     "output_type": "stream",
     "text": [
      "8783\n"
     ]
    },
    {
     "data": {
      "text/html": [
       "<div>\n",
       "<style scoped>\n",
       "    .dataframe tbody tr th:only-of-type {\n",
       "        vertical-align: middle;\n",
       "    }\n",
       "\n",
       "    .dataframe tbody tr th {\n",
       "        vertical-align: top;\n",
       "    }\n",
       "\n",
       "    .dataframe thead th {\n",
       "        text-align: right;\n",
       "    }\n",
       "</style>\n",
       "<table border=\"1\" class=\"dataframe\">\n",
       "  <thead>\n",
       "    <tr style=\"text-align: right;\">\n",
       "      <th></th>\n",
       "      <th>index</th>\n",
       "      <th>target</th>\n",
       "      <th>processed_func</th>\n",
       "      <th>func_after</th>\n",
       "      <th>flaw_line</th>\n",
       "    </tr>\n",
       "  </thead>\n",
       "  <tbody>\n",
       "    <tr>\n",
       "      <th>0</th>\n",
       "      <td>186765</td>\n",
       "      <td>1</td>\n",
       "      <td>BrowserContext* SharedWorkerDevToolsAgentHost:...</td>\n",
       "      <td>BrowserContext* SharedWorkerDevToolsAgentHost...</td>\n",
       "      <td>RenderProcessHost* rph = GetProcess();</td>\n",
       "    </tr>\n",
       "    <tr>\n",
       "      <th>49</th>\n",
       "      <td>179392</td>\n",
       "      <td>1</td>\n",
       "      <td>int perf_config(config_fn_t fn, void *data)\\n{...</td>\n",
       "      <td>int perf_config(config_fn_t fn, void *data)\\n...</td>\n",
       "      <td>\\tchar *repo_config = NULL;/~/\\trepo_config = ...</td>\n",
       "    </tr>\n",
       "    <tr>\n",
       "      <th>54</th>\n",
       "      <td>182089</td>\n",
       "      <td>1</td>\n",
       "      <td>static int __videobuf_mmap_mapper(struct video...</td>\n",
       "      <td>static int __videobuf_mmap_mapper(struct video...</td>\n",
       "      <td>\\tmap = q-&gt;bufs[first]-&gt;map = kmalloc(sizeof(s...</td>\n",
       "    </tr>\n",
       "    <tr>\n",
       "      <th>58</th>\n",
       "      <td>183738</td>\n",
       "      <td>1</td>\n",
       "      <td>void CloudPolicyController::SetState(\\nCloudPo...</td>\n",
       "      <td>void CloudPolicyController::SetState(\\n     C...</td>\n",
       "      <td>backend_.reset();  // Discard any pending re...</td>\n",
       "    </tr>\n",
       "    <tr>\n",
       "      <th>106</th>\n",
       "      <td>183899</td>\n",
       "      <td>1</td>\n",
       "      <td>void HTMLElement::setOuterHTML(const String&amp; h...</td>\n",
       "      <td>void HTMLElement::setOuterHTML(const String&amp; h...</td>\n",
       "      <td>RefPtr&lt;DocumentFragment&gt; fragment = create...</td>\n",
       "    </tr>\n",
       "  </tbody>\n",
       "</table>\n",
       "</div>"
      ],
      "text/plain": [
       "      index  target                                     processed_func  \\\n",
       "0    186765       1  BrowserContext* SharedWorkerDevToolsAgentHost:...   \n",
       "49   179392       1  int perf_config(config_fn_t fn, void *data)\\n{...   \n",
       "54   182089       1  static int __videobuf_mmap_mapper(struct video...   \n",
       "58   183738       1  void CloudPolicyController::SetState(\\nCloudPo...   \n",
       "106  183899       1  void HTMLElement::setOuterHTML(const String& h...   \n",
       "\n",
       "                                            func_after  \\\n",
       "0     BrowserContext* SharedWorkerDevToolsAgentHost...   \n",
       "49    int perf_config(config_fn_t fn, void *data)\\n...   \n",
       "54   static int __videobuf_mmap_mapper(struct video...   \n",
       "58    void CloudPolicyController::SetState(\\n     C...   \n",
       "106  void HTMLElement::setOuterHTML(const String& h...   \n",
       "\n",
       "                                             flaw_line  \n",
       "0               RenderProcessHost* rph = GetProcess();  \n",
       "49   \\tchar *repo_config = NULL;/~/\\trepo_config = ...  \n",
       "54   \\tmap = q->bufs[first]->map = kmalloc(sizeof(s...  \n",
       "58     backend_.reset();  // Discard any pending re...  \n",
       "106      RefPtr<DocumentFragment> fragment = create...  "
      ]
     },
     "execution_count": 26,
     "metadata": {},
     "output_type": "execute_result"
    }
   ],
   "source": [
    "import pandas as pd\n",
    "import torch\n",
    "from sklearn.cluster import KMeans\n",
    "from transformers import RobertaTokenizer, RobertaModel\n",
    "\n",
    "\n",
    "# Load the pre-trained CodeBERT model and tokenizer\n",
    "tokenizer = RobertaTokenizer.from_pretrained(\"microsoft/codebert-base\")\n",
    "model = RobertaModel.from_pretrained(\"microsoft/codebert-base\").to('cuda:0')\n",
    "\n",
    "\n",
    "\n",
    "df = pd.read_json(\"./container_data/bigvul-train.jsonl\", lines=True)\n",
    "df = df[df['target'] == 1]\n",
    "print(len(df))\n",
    "df.head()"
   ]
  },
  {
   "cell_type": "code",
   "execution_count": 29,
   "metadata": {},
   "outputs": [],
   "source": [
    "def encode_code(code): #Tokenization + Input_id transform\n",
    "    inputs = tokenizer(code, return_tensors=\"pt\", truncation=True, padding=True).to('cuda:0')\n",
    "    with torch.no_grad():\n",
    "        outputs = model(**inputs)\n",
    "    # Use the mean of the hidden states as the vector representation\n",
    "    # return outputs.last_hidden_state.mean(dim=1).squeeze().numpy()\n",
    "    return outputs.last_hidden_state[:, 0, :].squeeze().cpu().numpy() # features[:, 0, :] is [cls]\n",
    "\n",
    "encoded_code_vectors = []\n",
    "index_to_vector_map = {}\n",
    "\n",
    "i = 0\n",
    "for index, row in df.iterrows():\n",
    "    index = int(row['index'])\n",
    "    function = str(row['processed_func'])\n",
    "    vector = encode_code(function)\n",
    "    encoded_code_vectors.append(vector)\n",
    "    index_to_vector_map[index] = vector\n",
    "\n",
    "\n",
    "encoded_code_vectors = torch.tensor(encoded_code_vectors)\n",
    "\n"
   ]
  },
  {
   "cell_type": "code",
   "execution_count": null,
   "metadata": {},
   "outputs": [],
   "source": [
    "kmeans = KMeans(n_clusters=5, random_state=42)\n",
    "kmeans.fit(encoded_code_vectors)\n",
    "\n",
    "# Get the cluster labels for each code piece\n",
    "cluster_labels = kmeans.labels_"
   ]
  },
  {
   "cell_type": "code",
   "execution_count": 31,
   "metadata": {},
   "outputs": [],
   "source": [
    "df['cluster'] = cluster_labels\n",
    "\n",
    "for cluster_number, group_df in df.groupby('cluster'):\n",
    "    file_name = f'./container_data/bigvul_vuls_cls_{cluster_number}.jsonl'\n",
    "    group_df[['index', 'processed_func', 'target', 'flaw_line', 'func_after']].to_json(file_name, orient='records', lines=True)\n"
   ]
  },
  {
   "cell_type": "code",
   "execution_count": 33,
   "metadata": {},
   "outputs": [
    {
     "name": "stdout",
     "output_type": "stream",
     "text": [
      "[1351, 1510, 540, 1984, 3398, 0]\n"
     ]
    }
   ],
   "source": [
    "arr = [0,0,0,0,0,0]\n",
    "for i in cluster_labels:\n",
    "    arr[i]+=1\n",
    "\n",
    "print(arr) # avg -> [1238, 1187, 1069, 1372, 3917, 0] order is [4,3,1,0,2] and kmeans indices are 0,1,2,3,4 for 5 clusters"
   ]
  }
 ],
 "metadata": {
  "kernelspec": {
   "display_name": "llama",
   "language": "python",
   "name": "python3"
  },
  "language_info": {
   "codemirror_mode": {
    "name": "ipython",
    "version": 3
   },
   "file_extension": ".py",
   "mimetype": "text/x-python",
   "name": "python",
   "nbconvert_exporter": "python",
   "pygments_lexer": "ipython3",
   "version": "3.11.4"
  }
 },
 "nbformat": 4,
 "nbformat_minor": 2
}
