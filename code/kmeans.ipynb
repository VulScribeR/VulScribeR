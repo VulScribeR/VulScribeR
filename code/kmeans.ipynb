{
 "cells": [
  {
   "cell_type": "code",
   "execution_count": 6,
   "metadata": {},
   "outputs": [
    {
     "name": "stderr",
     "output_type": "stream",
     "text": [
      "/home/shayan/.conda/envs/llama/lib/python3.11/site-packages/huggingface_hub/file_download.py:1150: FutureWarning: `resume_download` is deprecated and will be removed in version 1.0.0. Downloads always resume when possible. If you want to force a new download, use `force_download=True`.\n",
      "  warnings.warn(\n"
     ]
    },
    {
     "name": "stdout",
     "output_type": "stream",
     "text": [
      "2352\n"
     ]
    },
    {
     "data": {
      "text/html": [
       "<div>\n",
       "<style scoped>\n",
       "    .dataframe tbody tr th:only-of-type {\n",
       "        vertical-align: middle;\n",
       "    }\n",
       "\n",
       "    .dataframe tbody tr th {\n",
       "        vertical-align: top;\n",
       "    }\n",
       "\n",
       "    .dataframe thead th {\n",
       "        text-align: right;\n",
       "    }\n",
       "</style>\n",
       "<table border=\"1\" class=\"dataframe\">\n",
       "  <thead>\n",
       "    <tr style=\"text-align: right;\">\n",
       "      <th></th>\n",
       "      <th>index</th>\n",
       "      <th>processed_func</th>\n",
       "      <th>target</th>\n",
       "      <th>flaw_line</th>\n",
       "    </tr>\n",
       "  </thead>\n",
       "  <tbody>\n",
       "    <tr>\n",
       "      <th>0</th>\n",
       "      <td>0</td>\n",
       "      <td>long ssl_get_algorithm2(SSL *s)\\n        {\\n ...</td>\n",
       "      <td>1</td>\n",
       "      <td>if (TLS1_get_version(s) &gt;= TLS1_2_VERSION &amp;&amp;</td>\n",
       "    </tr>\n",
       "    <tr>\n",
       "      <th>6</th>\n",
       "      <td>3</td>\n",
       "      <td>getftp (struct url *u, wgint passed_expected_b...</td>\n",
       "      <td>1</td>\n",
       "      <td>bool pasv_mode_open = false;/~/pasv_mode_open ...</td>\n",
       "    </tr>\n",
       "    <tr>\n",
       "      <th>10</th>\n",
       "      <td>8</td>\n",
       "      <td>add_range(fz_context *ctx, pdf_cmap *cmap, uns...</td>\n",
       "      <td>1</td>\n",
       "      <td>add_range(ctx, cmap, high+1, new_high, tree[cu...</td>\n",
       "    </tr>\n",
       "    <tr>\n",
       "      <th>12</th>\n",
       "      <td>9</td>\n",
       "      <td>pdf_show_image(fz_context *ctx, pdf_run_proce...</td>\n",
       "      <td>1</td>\n",
       "      <td>if (image-&gt;mask)/~/if (gstate-&gt;blendmode)/~/if...</td>\n",
       "    </tr>\n",
       "    <tr>\n",
       "      <th>20</th>\n",
       "      <td>28</td>\n",
       "      <td>void ArthurOutputDev::drawImage(GfxState *stat...</td>\n",
       "      <td>1</td>\n",
       "      <td>buffer = (unsigned char *)gmalloc (width * hei...</td>\n",
       "    </tr>\n",
       "  </tbody>\n",
       "</table>\n",
       "</div>"
      ],
      "text/plain": [
       "    index                                     processed_func  target  \\\n",
       "0       0   long ssl_get_algorithm2(SSL *s)\\n        {\\n ...       1   \n",
       "6       3  getftp (struct url *u, wgint passed_expected_b...       1   \n",
       "10      8  add_range(fz_context *ctx, pdf_cmap *cmap, uns...       1   \n",
       "12      9   pdf_show_image(fz_context *ctx, pdf_run_proce...       1   \n",
       "20     28  void ArthurOutputDev::drawImage(GfxState *stat...       1   \n",
       "\n",
       "                                            flaw_line  \n",
       "0        if (TLS1_get_version(s) >= TLS1_2_VERSION &&  \n",
       "6   bool pasv_mode_open = false;/~/pasv_mode_open ...  \n",
       "10  add_range(ctx, cmap, high+1, new_high, tree[cu...  \n",
       "12  if (image->mask)/~/if (gstate->blendmode)/~/if...  \n",
       "20  buffer = (unsigned char *)gmalloc (width * hei...  "
      ]
     },
     "execution_count": 6,
     "metadata": {},
     "output_type": "execute_result"
    }
   ],
   "source": [
    "import pandas as pd\n",
    "import torch\n",
    "from sklearn.cluster import KMeans\n",
    "from transformers import RobertaTokenizer, RobertaModel\n",
    "\n",
    "\n",
    "# Load the pre-trained CodeBERT model and tokenizer\n",
    "tokenizer = RobertaTokenizer.from_pretrained(\"microsoft/codebert-base\")\n",
    "model = RobertaModel.from_pretrained(\"microsoft/codebert-base\").to('cuda:0')\n",
    "\n",
    "\n",
    "\n",
    "# df = pd.read_json(\"./container_data/bigvul-train.jsonl\", lines=True)\n",
    "df = pd.read_json(\"./container_data/primevul_train_cleaned_paired_full.jsonl\", lines=True)\n",
    "df = df[df['target'] == 1]\n",
    "df = df[df['flaw_line'].str.strip() != ''] # filtering only vul lines available ones\n",
    "\n",
    "print(len(df))\n",
    "df.head()"
   ]
  },
  {
   "cell_type": "code",
   "execution_count": 7,
   "metadata": {},
   "outputs": [],
   "source": [
    "def encode_code(code): #Tokenization + Input_id transform\n",
    "    inputs = tokenizer(code, return_tensors=\"pt\", truncation=True, padding=True).to('cuda:0')\n",
    "    with torch.no_grad():\n",
    "        outputs = model(**inputs)\n",
    "    # Use the mean of the hidden states as the vector representation\n",
    "    # return outputs.last_hidden_state.mean(dim=1).squeeze().numpy()\n",
    "    return outputs.last_hidden_state[:, 0, :].squeeze().cpu().numpy() # features[:, 0, :] is [cls]\n",
    "\n",
    "encoded_code_vectors = []\n",
    "index_to_vector_map = {}\n",
    "\n",
    "i = 0\n",
    "for index, row in df.iterrows():\n",
    "    index = int(row['index'])\n",
    "    function = str(row['processed_func'])\n",
    "    vector = encode_code(function)\n",
    "    encoded_code_vectors.append(vector)\n",
    "    index_to_vector_map[index] = vector\n",
    "\n",
    "\n",
    "encoded_code_vectors = torch.tensor(encoded_code_vectors)\n",
    "\n"
   ]
  },
  {
   "cell_type": "code",
   "execution_count": 8,
   "metadata": {},
   "outputs": [
    {
     "name": "stderr",
     "output_type": "stream",
     "text": [
      "/home/shayan/.conda/envs/llama/lib/python3.11/site-packages/sklearn/cluster/_kmeans.py:1412: FutureWarning: The default value of `n_init` will change from 10 to 'auto' in 1.4. Set the value of `n_init` explicitly to suppress the warning\n",
      "  super()._check_params_vs_input(X, default_n_init=10)\n"
     ]
    }
   ],
   "source": [
    "kmeans = KMeans(n_clusters=5, random_state=42)\n",
    "kmeans.fit(encoded_code_vectors)\n",
    "\n",
    "# Get the cluster labels for each code piece\n",
    "cluster_labels = kmeans.labels_"
   ]
  },
  {
   "cell_type": "code",
   "execution_count": 9,
   "metadata": {},
   "outputs": [],
   "source": [
    "df['cluster'] = cluster_labels\n",
    "\n",
    "for cluster_number, group_df in df.groupby('cluster'):\n",
    "    # file_name = f'./container_data/bigvul_vuls_cls_{cluster_number}.jsonl'\n",
    "    # group_df[['index', 'processed_func', 'target', 'flaw_line', 'func_after']].to_json(file_name, orient='records', lines=True)\n",
    "    file_name = f'./container_data/primevul_vuls_cls_{cluster_number}_flaw_only.jsonl'\n",
    "    group_df[['index', 'processed_func', 'target', 'flaw_line']].to_json(file_name, orient='records', lines=True)\n"
   ]
  },
  {
   "cell_type": "code",
   "execution_count": null,
   "metadata": {},
   "outputs": [
    {
     "name": "stdout",
     "output_type": "stream",
     "text": [
      "[807, 396, 308, 146, 695, 0]\n"
     ]
    }
   ],
   "source": [
    "arr = [0,0,0,0,0,0]\n",
    "for i in cluster_labels:\n",
    "    arr[i]+=1\n",
    "\n",
    "print(arr) # avg -> [1238, 1187, 1069, 1372, 3917, 0] order is [4,3,1,0,2] and kmeans indices are 0,1,2,3,4 for 5 clusters of bigvuk\n",
    " # for prime vul [558, 224, 961, 1309, 737, 0] so order is [3, 2, 4, 0, 1] and kmeans indices are 0,1,2,3,4 for 5 clusters of primevul\n",
    " # for flaw only primevul [807, 396, 308, 146, 695, 0] so order is [0, 4, 1, 2, 3] and kmeans indices are 0,1,2,3,4 for 5 clusters of primevul"
   ]
  }
 ],
 "metadata": {
  "kernelspec": {
   "display_name": "llama",
   "language": "python",
   "name": "python3"
  },
  "language_info": {
   "codemirror_mode": {
    "name": "ipython",
    "version": 3
   },
   "file_extension": ".py",
   "mimetype": "text/x-python",
   "name": "python",
   "nbconvert_exporter": "python",
   "pygments_lexer": "ipython3",
   "version": "3.11.4"
  }
 },
 "nbformat": 4,
 "nbformat_minor": 2
}
