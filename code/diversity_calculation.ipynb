{
 "cells": [
  {
   "cell_type": "code",
   "execution_count": null,
   "metadata": {},
   "outputs": [],
   "source": [
    "import pandas as pd\n",
    "import torch\n",
    "from sklearn.cluster import KMeans\n",
    "from transformers import RobertaTokenizer, RobertaModel\n",
    "\n",
    "\n",
    "# Load the pre-trained CodeBERT model and tokenizer\n",
    "tokenizer = RobertaTokenizer.from_pretrained(\"microsoft/codebert-base\")\n",
    "model = RobertaModel.from_pretrained(\"microsoft/codebert-base\").to('cuda:0')\n",
    "\n",
    "def encode_code(code): #Tokenization + Input_id transform\n",
    "    inputs = tokenizer(code, return_tensors=\"pt\", truncation=True, padding=True).to('cuda:0')\n",
    "    with torch.no_grad():\n",
    "        outputs = model(**inputs)\n",
    "    # Use the mean of the hidden states as the vector representation\n",
    "    # return outputs.last_hidden_state.mean(dim=1).squeeze().numpy()\n",
    "    return outputs.last_hidden_state[:, 0, :].squeeze().cpu().numpy() # features[:, 0, :] is [cls]"
   ]
  },
  {
   "cell_type": "code",
   "execution_count": 5,
   "metadata": {},
   "outputs": [
    {
     "name": "stdout",
     "output_type": "stream",
     "text": [
      "15768\n",
      "15768\n"
     ]
    }
   ],
   "source": [
    "import pandas as pd\n",
    "import os \n",
    "encoded_code_vectors = []\n",
    "# gen_pd16 = pd.read_json(\"./container_data/YOUR_FINAL_FULL_AUGMENTED_DATASET_JSON_THAT_IS_ALSO_USED_FOR_TRAINING_LINEVUL_AND_CONTAINS_ORIGINAL_AND_NEW_VULS\", orient=\"records\", lines=True)\n",
    "gen_pd16 = pd.read_json(\"./container_data/vulgen5k.jsonl\", orient=\"records\", lines=True)\n",
    "gen_pd16 = gen_pd16[gen_pd16['target'] == 1]\n",
    "print(gen_pd16.shape[0])\n",
    "\n",
    "index_to_vector_map = {}\n",
    "\n",
    "i = 0\n",
    "for index, row in gen_pd16.iterrows():\n",
    "    idx = str(row['idx'])\n",
    "    function = str(row['func'])\n",
    "    vector = encode_code(function)\n",
    "    encoded_code_vectors.append(vector)\n",
    "    index_to_vector_map[index] = vector\n",
    "    i+=1\n",
    "    # if i % 1000 == 0:\n",
    "        # print(i)\n",
    "\n",
    "encoded_code_vectors = torch.tensor(encoded_code_vectors)\n",
    "print(i)"
   ]
  },
  {
   "cell_type": "code",
   "execution_count": 6,
   "metadata": {},
   "outputs": [
    {
     "name": "stdout",
     "output_type": "stream",
     "text": [
      "Entropy with 10 bins in reduced dimensions: 4.419580459594727\n"
     ]
    }
   ],
   "source": [
    "import torch\n",
    "from sklearn.decomposition import PCA\n",
    "\n",
    "vectors = encoded_code_vectors",
    "\n",
    "# Step 1: Dimensionality Reduction with PCA\n",
    "# Convert torch tensor to numpy for PCA\n",
    "vectors_np = vectors.numpy()\n",
    "pca = PCA(n_components=3)  # Reduce to 3 dimensions\n",
    "reduced_vectors = pca.fit_transform(vectors_np)\n",
    "reduced_vectors = torch.tensor(reduced_vectors, dtype=torch.float32)  # Convert back to torch tensor\n",
    "\n",
    "# Step 2: Entropy Calculation with Reduced Dimensions\n",
    "def calculate_entropy(vectors, num_bins):\n",
    "    hist, bin_edges = torch.histogramdd(vectors, bins=num_bins)\n",
    "    total_vectors = vectors.size(0)\n",
    "    probabilities = hist / total_vectors\n",
    "    probabilities = probabilities.flatten()\n",
    "    non_zero_probabilities = probabilities[probabilities > 0]\n",
    "    entropy = -torch.sum(non_zero_probabilities * torch.log(non_zero_probabilities))\n",
    "    return entropy.item()\n",
    "\n",
    "# Calculate entropy with a reasonable number of bins, e.g., 10\n",
    "entropy_value = calculate_entropy(reduced_vectors, 10)\n",
    "\n",
    "print(f\"Entropy with 10 bins in reduced dimensions: {entropy_value}\")"
   ]
  }
 ],
 "metadata": {
  "kernelspec": {
   "display_name": "llama",
   "language": "python",
   "name": "python3"
  },
  "language_info": {
   "codemirror_mode": {
    "name": "ipython",
    "version": 3
   },
   "file_extension": ".py",
   "mimetype": "text/x-python",
   "name": "python",
   "nbconvert_exporter": "python",
   "pygments_lexer": "ipython3",
   "version": "3.11.4"
  }
 },
 "nbformat": 4,
 "nbformat_minor": 2
}
